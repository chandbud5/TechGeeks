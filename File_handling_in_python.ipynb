{
  "nbformat": 4,
  "nbformat_minor": 0,
  "metadata": {
    "colab": {
      "name": "File handling in python.ipynb",
      "provenance": [],
      "authorship_tag": "ABX9TyNnrzXHaKkK4BwGmnpS9MrV",
      "include_colab_link": true
    },
    "kernelspec": {
      "name": "python3",
      "display_name": "Python 3"
    }
  },
  "cells": [
    {
      "cell_type": "markdown",
      "metadata": {
        "id": "view-in-github",
        "colab_type": "text"
      },
      "source": [
        "<a href=\"https://colab.research.google.com/github/chandbud5/Technical_Blogger/blob/master/File_handling_in_python.ipynb\" target=\"_parent\"><img src=\"https://colab.research.google.com/assets/colab-badge.svg\" alt=\"Open In Colab\"/></a>"
      ]
    },
    {
      "cell_type": "code",
      "metadata": {
        "id": "rlAN5PEo6jRx",
        "colab_type": "code",
        "colab": {}
      },
      "source": [
        "f = open('/content/Poem.txt', 'r')"
      ],
      "execution_count": 4,
      "outputs": []
    },
    {
      "cell_type": "code",
      "metadata": {
        "id": "yRS6RBP79DAY",
        "colab_type": "code",
        "colab": {
          "base_uri": "https://localhost:8080/",
          "height": 34
        },
        "outputId": "24e712a2-1c7c-49de-cc9b-d0084a93eff3"
      },
      "source": [
        "number_of_lines = 0\n",
        "while f.readline()!=\"\":\n",
        "    number_of_lines += 1\n",
        "print(\"Number of Lines in a file is \", number_of_lines)"
      ],
      "execution_count": 2,
      "outputs": [
        {
          "output_type": "stream",
          "text": [
            "Number of Lines in a file is  18\n"
          ],
          "name": "stdout"
        }
      ]
    },
    {
      "cell_type": "code",
      "metadata": {
        "id": "vYmFdmGp8_2s",
        "colab_type": "code",
        "colab": {
          "base_uri": "https://localhost:8080/",
          "height": 120
        },
        "outputId": "05875b4b-5c56-466e-e295-8917ae377ff9"
      },
      "source": [
        "f.read()"
      ],
      "execution_count": 5,
      "outputs": [
        {
          "output_type": "execute_result",
          "data": {
            "application/vnd.google.colaboratory.intrinsic": {
              "type": "string"
            },
            "text/plain": [
              "'Love Sonnet 18\\n\\nShall I compare thee to a summer’s day?\\nThou art more lovely and more temperate:\\nRough winds do shake the darling buds of May,\\nAnd summer’s lease hath all too short a date:\\nSometime too hot the eye of heaven shines,\\nAnd often is his gold complexion dimm’d;\\nAnd every fair from fair sometime declines,\\nBy chance or nature’s changing course untrimm’d;\\nBut thy eternal summer shall not fade\\nNor lose possession of that fair thou owest;\\nNor shall Death brag thou wander’st in his shade,\\nWhen in eternal lines to time thou growest:\\nSo long as men can breathe or eyes can see,\\nSo long lives this and this gives life to thee.\\n\\n– William Shakespeare'"
            ]
          },
          "metadata": {
            "tags": []
          },
          "execution_count": 5
        }
      ]
    },
    {
      "cell_type": "code",
      "metadata": {
        "id": "vOlqfy3d9GnM",
        "colab_type": "code",
        "colab": {}
      },
      "source": [
        ""
      ],
      "execution_count": null,
      "outputs": []
    }
  ]
}